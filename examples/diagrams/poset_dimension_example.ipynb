{
 "cells": [
  {
   "cell_type": "code",
   "execution_count": null,
   "metadata": {
    "ExecuteTime": {
     "end_time": "2017-04-04T17:29:08.265968Z",
     "start_time": "2017-04-04T18:29:08.048760+01:00"
    },
    "collapsed": true,
    "deletable": true,
    "editable": true
   },
   "outputs": [],
   "source": [
    "import matplotlib.pyplot as plt\n",
    "import networkx as nx\n",
    "import numpy as np\n",
    "import os\n",
    "\n",
    "import dagology as dag\n",
    "from diagram_utils import *"
   ]
  },
  {
   "cell_type": "code",
   "execution_count": null,
   "metadata": {
    "ExecuteTime": {
     "end_time": "2017-04-04T17:29:08.997807Z",
     "start_time": "2017-04-04T18:29:08.992672+01:00"
    },
    "collapsed": true,
    "deletable": true,
    "editable": true
   },
   "outputs": [],
   "source": [
    "%matplotlib inline"
   ]
  },
  {
   "cell_type": "code",
   "execution_count": null,
   "metadata": {
    "ExecuteTime": {
     "end_time": "2017-04-04T17:29:09.590993Z",
     "start_time": "2017-04-04T18:29:09.488356+01:00"
    },
    "collapsed": false,
    "deletable": true,
    "editable": true
   },
   "outputs": [],
   "source": [
    "# D=1\n",
    "G = nx.DiGraph()\n",
    "G.add_edges_from([['a','b'], ['b','c'], ['c','d']])\n",
    "pos = {'a':[0,0],\n",
    "       'b':[0,1],\n",
    "       'c':[0,2],\n",
    "       'd':[0,3]}\n",
    "labels={n:n for n in G.nodes()}\n",
    "nx.draw(G, pos=pos, labels=labels, node_color=tableau20[7], node_size=500)"
   ]
  },
  {
   "cell_type": "code",
   "execution_count": null,
   "metadata": {
    "ExecuteTime": {
     "end_time": "2017-04-04T17:29:14.218268Z",
     "start_time": "2017-04-04T18:29:14.088131+01:00"
    },
    "collapsed": false,
    "deletable": true,
    "editable": true
   },
   "outputs": [],
   "source": [
    "# D=2\n",
    "G = nx.DiGraph()\n",
    "G.add_edges_from([['a','x'], ['a','y'], ['a','z'], \n",
    "                  ['b','x'], ['b','y'], ['b','z'],\n",
    "                  ['c','x'], ['c','y'], ['c','z']])\n",
    "pos = {'a':[-1,0],\n",
    "       'b':[0,0],\n",
    "       'c':[1,0],\n",
    "       'x':[-1,2],\n",
    "       'y':[0,2],\n",
    "       'z':[1, 2]}\n",
    "labels={n:n for n in G.nodes()}\n",
    "nx.draw(G, pos=pos, labels=labels, node_color=tableau20[7], node_size=500)"
   ]
  },
  {
   "cell_type": "code",
   "execution_count": null,
   "metadata": {
    "ExecuteTime": {
     "end_time": "2017-04-04T17:29:15.422849Z",
     "start_time": "2017-04-04T18:29:15.312027+01:00"
    },
    "collapsed": false,
    "deletable": true,
    "editable": true
   },
   "outputs": [],
   "source": [
    "# D=3\n",
    "G = nx.DiGraph()\n",
    "G.add_edges_from([['a','i'], ['a','j'], ['a','k'], \n",
    "                  ['i','p'], ['i','q'],\n",
    "                  ['j','p'], ['j','r'],\n",
    "                  ['k','q'], ['k', 'r'],\n",
    "                  ['p','x'], ['q','x'], ['r','x']])\n",
    "pos = {'a':[0,0],\n",
    "       'i':[-1,1],\n",
    "       'j':[0,1],\n",
    "       'k':[1,1],\n",
    "       'p':[-1,2],\n",
    "       'q':[0,2],\n",
    "       'r':[1,2],\n",
    "       'x':[0, 3]}\n",
    "labels={n:n for n in G.nodes()}\n",
    "nx.draw(G, pos=pos, labels=labels, node_color=tableau20[7], node_size=500, alpha=1)"
   ]
  }
 ],
 "metadata": {
  "kernelspec": {
   "display_name": "Python 2",
   "language": "python",
   "name": "python2"
  },
  "language_info": {
   "codemirror_mode": {
    "name": "ipython",
    "version": 2
   },
   "file_extension": ".py",
   "mimetype": "text/x-python",
   "name": "python",
   "nbconvert_exporter": "python",
   "pygments_lexer": "ipython2",
   "version": "2.7.12"
  }
 },
 "nbformat": 4,
 "nbformat_minor": 0
}
