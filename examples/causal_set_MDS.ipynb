{
 "cells": [
  {
   "cell_type": "code",
   "execution_count": 1,
   "metadata": {
    "collapsed": true
   },
   "outputs": [],
   "source": [
    "# generate causal set, estimate coords, compare to original\n",
    "import dagology as dag\n",
    "import numpy as np\n",
    "import matplotlib.pyplot as plt\n",
    "from mpl_toolkits.mplot3d import Axes3D\n",
    "import example_utils as u\n",
    "import pickle"
   ]
  },
  {
   "cell_type": "code",
   "execution_count": null,
   "metadata": {
    "collapsed": false
   },
   "outputs": [],
   "source": [
    "# generate causal set\n",
    "N = 1000\n",
    "D = 2\n",
    "A, R = dag.minkowski_causet(N, D)\n",
    "R -= 0.5\n",
    "#A_tr = dag.transitive_reduction(A)"
   ]
  },
  {
   "cell_type": "code",
   "execution_count": null,
   "metadata": {
    "collapsed": true
   },
   "outputs": [],
   "source": [
    "LP = dag.longest_path_matrix(A)\n",
    "SP = dag.naive_spacelike_matrix(LP)\n",
    "X = dag.MDS(SP, D, method='lorentzian')\n",
    "X = u.flip_time_axis(X, A)\n",
    "if D==2:\n",
    "    X = u.flip_space_axis(X, R)\n",
    "X = u.normalise_coords(X)"
   ]
  },
  {
   "cell_type": "code",
   "execution_count": null,
   "metadata": {
    "collapsed": false
   },
   "outputs": [],
   "source": [
    "# Compare with a random DAG\n",
    "A_random = dag.random_dag(N, 16)\n",
    "LP_random = dag.longest_path_matrix(A_random)\n",
    "SP_random = dag.naive_spacelike_matrix(LP_random)\n",
    "X_random = dag.MDS(SP_random, D, method='lorentzian')\n",
    "X_random = u.flip_time_axis(X_random, A_random)\n",
    "u.measure_embedding(X_random, A_random, c=1)"
   ]
  },
  {
   "cell_type": "code",
   "execution_count": 2,
   "metadata": {
    "collapsed": true
   },
   "outputs": [],
   "source": [
    "def load_causal_set(N, D, i):\n",
    "    path = '../data/causal_sets/N%s_D%s_%s' % (N, D, i)\n",
    "    with open(path + '_R.pkl', 'rb') as f:\n",
    "        R = pickle.load(f)\n",
    "    with open(path + '_A.pkl', 'rb') as f:\n",
    "        A = pickle.load(f)   \n",
    "    with open(path + '_X.pkl', 'rb') as f:\n",
    "        X = pickle.load(f) \n",
    "    return A, R, X\n",
    "\n",
    "def load_random_dag(N, k, i):\n",
    "    path = '../data/random_dag/N%s_k%s_%s' % (N, k, i)\n",
    "    with open(path + '_R.pkl', 'rb') as f:\n",
    "        R = pickle.load(f)\n",
    "    with open(path + '_A.pkl', 'rb') as f:\n",
    "        A = pickle.load(f)   \n",
    "    return A, R  "
   ]
  },
  {
   "cell_type": "code",
   "execution_count": 38,
   "metadata": {
    "collapsed": false
   },
   "outputs": [],
   "source": [
    "A_C2, R_C2, X_C2 = load_causal_set(1000, 2, 0)"
   ]
  },
  {
   "cell_type": "code",
   "execution_count": 46,
   "metadata": {
    "collapsed": true
   },
   "outputs": [],
   "source": [
    "A_C3, R_C3, X_C3 = load_causal_set(1000, 3, 0)"
   ]
  },
  {
   "cell_type": "code",
   "execution_count": 49,
   "metadata": {
    "collapsed": true
   },
   "outputs": [],
   "source": [
    "A_C4, R_C4, X_C4 = load_causal_set(1000, 4, 0)"
   ]
  },
  {
   "cell_type": "code",
   "execution_count": 40,
   "metadata": {
    "collapsed": false
   },
   "outputs": [],
   "source": [
    "A_R, X_R,  = load_random_dag(1000, 16, 0)"
   ]
  },
  {
   "cell_type": "code",
   "execution_count": 5,
   "metadata": {
    "collapsed": true
   },
   "outputs": [],
   "source": [
    "def draw_C(A, R, subset=20):\n",
    "    N, D = R.shape\n",
    "    assert N == A.shape[0]\n",
    "    A_sub = A[:subset, :subset]\n",
    "    A_sub = dag.transitive_reduction(A_sub)\n",
    "    plt.subplot(1, 1, 1)\n",
    "    for i in range(min(N, subset)):\n",
    "        plt.scatter(R[i, 1], R[i, 0], c=u.tableau20[i%20], s=80)\n",
    "        for j in range(N):\n",
    "            if i>j and (A_sub[i,j] == 1 or A_sub[j,i]==1):\n",
    "                plt.plot([R[i,1], R[j,1]], [R[i,0], R[j,0]], 'k-', alpha=0.3)\n",
    "    #plt.axis('off') \n",
    "    plt.show()"
   ]
  },
  {
   "cell_type": "code",
   "execution_count": 6,
   "metadata": {
    "collapsed": false
   },
   "outputs": [],
   "source": [
    "def draw_C_embedded(A, R, X=None, subset=20):\n",
    "    N, D = R.shape\n",
    "    assert N == A.shape[0]\n",
    "    A_sub = A[:subset, :subset]\n",
    "    A_sub = dag.transitive_reduction(A_sub)\n",
    "    if X is not None:\n",
    "        assert N == X.shape[0]\n",
    "        plt.subplot(1, 2, 1)\n",
    "    for i in range(min(N, subset)):\n",
    "        plt.scatter(R[i, 1], R[i, 0], c=u.tableau20[i%20], s=80)\n",
    "        for j in range(N):\n",
    "            if i>j and (A_sub[i,j] == 1 or A_sub[j,i]==1):\n",
    "                plt.plot([R[i,1], R[j,1]], [R[i,0], R[j,0]], 'k-', alpha=0.3)\n",
    "    if X is not None:            \n",
    "        plt.subplot(1, 2, 2)\n",
    "        for i in range(min(N, subset)):\n",
    "            plt.scatter(X[i, 1], X[i, 0], c=u.tableau20[i%20], s=80)\n",
    "            for j in range(N):\n",
    "                if i>j and (A_sub[i,j] == 1 or A_sub[j,i]==1):\n",
    "                    plt.plot([X[i,1], X[j,1]], [X[i,0], X[j,0]], 'k-', alpha=0.3)\n",
    "                \n",
    "    plt.show()    "
   ]
  },
  {
   "cell_type": "code",
   "execution_count": null,
   "metadata": {
    "collapsed": false
   },
   "outputs": [],
   "source": [
    "draw_C_embedded(A, R, X)"
   ]
  },
  {
   "cell_type": "code",
   "execution_count": null,
   "metadata": {
    "collapsed": false
   },
   "outputs": [],
   "source": [
    "u.average_deviation(R, X)"
   ]
  },
  {
   "cell_type": "code",
   "execution_count": null,
   "metadata": {
    "collapsed": false
   },
   "outputs": [],
   "source": [
    "u.measure_embedding(X_, A_, c=1)"
   ]
  },
  {
   "cell_type": "code",
   "execution_count": 36,
   "metadata": {
    "collapsed": true
   },
   "outputs": [],
   "source": [
    "def create_ROC_data(X, A):\n",
    "    c_range = np.logspace(-2., 2., 40)\n",
    "    x, y = [0.], [0.]\n",
    "    for c in c_range:\n",
    "        sens, spec = u.receiver_operator_curve(X, A, c)\n",
    "        x.append(1.-spec)\n",
    "        y.append(sens)\n",
    "    x.append(1.)\n",
    "    y.append(1.)\n",
    "    return x, y"
   ]
  },
  {
   "cell_type": "code",
   "execution_count": 50,
   "metadata": {
    "collapsed": false
   },
   "outputs": [],
   "source": [
    "x_c2, y_c2 = create_ROC_data(X_C2, A_C2)\n",
    "x_c3, y_c3 = create_ROC_data(X_C3[:,:2], A_C3)\n",
    "x_c4, y_c4 = create_ROC_data(X_C4[:,:2], A_C4)\n",
    "x_r, y_r = create_ROC_data(X_R[:,:2], A_R)"
   ]
  },
  {
   "cell_type": "code",
   "execution_count": 57,
   "metadata": {
    "collapsed": false
   },
   "outputs": [],
   "source": [
    "plt.plot(x_r, y_r, c=u.tableau20[2], marker='^', linewidth=3, label='Random DAG')\n",
    "plt.plot(x_c2, y_c2, c=u.tableau20[0], marker='o', linewidth=3, label='2D Causal Set')\n",
    "plt.plot(x_c3, y_c3, c=u.tableau20[4], marker='v', linewidth=3, label='3D Causal Set')\n",
    "plt.plot(x_c4, y_c4, c=u.tableau20[6], marker='p', linewidth=3, label='4D Causal Set')\n",
    "plt.legend(loc='lower right')\n",
    "plt.show()"
   ]
  },
  {
   "cell_type": "code",
   "execution_count": null,
   "metadata": {
    "collapsed": true
   },
   "outputs": [],
   "source": []
  }
 ],
 "metadata": {
  "kernelspec": {
   "display_name": "Python 2",
   "language": "python",
   "name": "python2"
  },
  "language_info": {
   "codemirror_mode": {
    "name": "ipython",
    "version": 2
   },
   "file_extension": ".py",
   "mimetype": "text/x-python",
   "name": "python",
   "nbconvert_exporter": "python",
   "pygments_lexer": "ipython2",
   "version": "2.7.9"
  }
 },
 "nbformat": 4,
 "nbformat_minor": 0
}
