{
 "cells": [
  {
   "cell_type": "code",
   "execution_count": 1,
   "metadata": {
    "collapsed": true
   },
   "outputs": [],
   "source": [
    "import numpy as np\n",
    "import dagology as dag\n",
    "import pickle\n",
    "import matplotlib.pyplot as plt\n",
    "from mpl_toolkits.mplot3d import Axes3D\n",
    "import scipy.sparse as sp\n",
    "import example_utils as util"
   ]
  },
  {
   "cell_type": "code",
   "execution_count": 2,
   "metadata": {
    "collapsed": false
   },
   "outputs": [
    {
     "name": "stdout",
     "output_type": "stream",
     "text": [
      "15460\n"
     ]
    }
   ],
   "source": [
    "# load dataset\n",
    "filepath = './datasets/hep-th.txt'\n",
    "edges, num_vertices = util.load_txt_dataset(filepath) \n",
    "N = 1000\n",
    "top_N_edges, top_N_nodes = util.restrict_top_N(edges, N)\n",
    "print len(top_N_edges)\n",
    "A = np.zeros((N, N))\n",
    "K = np.zeros(N)\n",
    "for a, b in top_N_edges:\n",
    "    A[a,b] = 1 \n",
    "    K[b] += 1\n",
    "A_tr = dag.transitive_reduction(A)"
   ]
  },
  {
   "cell_type": "code",
   "execution_count": null,
   "metadata": {
    "collapsed": false
   },
   "outputs": [],
   "source": [
    "LP = dag.longest_path_matrix(A)\n",
    "max_sep = int(np.max(LP)/2)\n",
    "X = dag.naive_spacelike_matrix(LP, max_sep)"
   ]
  },
  {
   "cell_type": "code",
   "execution_count": 3,
   "metadata": {
    "collapsed": false
   },
   "outputs": [],
   "source": [
    "def make_or_load_dataset(filepath, X=None, D=None, A=None):\n",
    "    try:\n",
    "        with open(filepath, 'rb') as f:\n",
    "            R = pickle.load(f)\n",
    "        print 'Loaded data'\n",
    "        return R\n",
    "    except:\n",
    "        assert X is not None\n",
    "        assert D is not None\n",
    "        assert A is not None\n",
    "        R = dag.MDS(X, D, method='lorentzian')\n",
    "        R = util.flip_time_axis(R, A)\n",
    "        with open(filepath, 'wb') as f:\n",
    "            pickle.dump(R, f)\n",
    "        print 'Writing data'\n",
    "        return R"
   ]
  },
  {
   "cell_type": "code",
   "execution_count": 4,
   "metadata": {
    "collapsed": false
   },
   "outputs": [
    {
     "name": "stdout",
     "output_type": "stream",
     "text": [
      "Loaded data\n"
     ]
    }
   ],
   "source": [
    "filepath = './results/hep-th_1000.pkl'\n",
    "#filepath = './datasets/random_dag/N1000_k10.pkl'\n",
    "R = make_or_load_dataset(filepath)"
   ]
  },
  {
   "cell_type": "code",
   "execution_count": 28,
   "metadata": {
    "collapsed": true
   },
   "outputs": [],
   "source": [
    "def plot_embedding_2d(R, A=None, figname=None):\n",
    "    N, D_max = R.shape\n",
    "    colors = np.arange(N)/float(N)\n",
    "    fig, ax = plt.subplots()\n",
    "    ax.axes.get_yaxis().set_ticks([])\n",
    "    ax.axes.get_xaxis().set_ticks([])\n",
    "    ax.set_xlabel('Space')\n",
    "    ax.set_ylabel('Time')\n",
    "    cax = ax.scatter(R[:,1], R[:,0], \n",
    "                     s=K*2, c=colors, cmap='plasma', linewidth=0.5)\n",
    "    cbar = fig.colorbar(cax, #ticks=[min(K), np.mean(K), max(K)-1],\n",
    "                       orientation='horizontal')\n",
    "    cbar.ax.set_xticklabels(\n",
    "        ['', 'Older papers', '','','','','','','','Newer papers'])\n",
    "    if A is not None:\n",
    "        for i in range(N):\n",
    "            for j in range(N):\n",
    "                if A[i,j] == 1:\n",
    "                    ax.plot([R[i,1], R[j,1]], [R[i,0], R[j,0]],\n",
    "                           'k-', alpha=0.00)\n",
    "    if figname:\n",
    "        plt.savefig('../figures/' + figname + '.pdf')\n",
    "        plt.savefig('../figures/' + figname + '.png')\n",
    "        plt.savefig('../figures/' + figname + '.eps')\n",
    "    plt.show()"
   ]
  },
  {
   "cell_type": "code",
   "execution_count": 17,
   "metadata": {
    "collapsed": false
   },
   "outputs": [],
   "source": [
    "def plot_embedding_3d(R, A=None):\n",
    "    N, D_max = R.shape\n",
    "    colors = np.arange(N)/float(N)\n",
    "    fig = plt.figure()\n",
    "    ax = fig.add_subplot(111, projection='3d')\n",
    "    ax.scatter(R[:,2], R[:,1], R[:,0], s=K*2, c=colors, cmap='viridis')\n",
    "    \n",
    "    \n",
    "    if A is not None:\n",
    "        for i in range(N):\n",
    "            for j in range(N):\n",
    "                if A[i,j] == 1:\n",
    "                    ax.plot([R[i,2], R[j,2]], [R[i,1], R[j,1]], [R[i,0], R[j,0]],\n",
    "                           'k-', alpha=0.02)\n",
    "    plt.show()"
   ]
  },
  {
   "cell_type": "code",
   "execution_count": 29,
   "metadata": {
    "collapsed": false
   },
   "outputs": [],
   "source": [
    "plot_embedding_2d(R, A_tr, 'hep-th_1000')"
   ]
  }
 ],
 "metadata": {
  "kernelspec": {
   "display_name": "Python 2",
   "language": "python",
   "name": "python2"
  },
  "language_info": {
   "codemirror_mode": {
    "name": "ipython",
    "version": 2
   },
   "file_extension": ".py",
   "mimetype": "text/x-python",
   "name": "python",
   "nbconvert_exporter": "python",
   "pygments_lexer": "ipython2",
   "version": "2.7.9"
  }
 },
 "nbformat": 4,
 "nbformat_minor": 0
}
